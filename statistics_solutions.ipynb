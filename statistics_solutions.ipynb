{
 "cells": [
  {
   "cell_type": "markdown",
   "id": "f815e198",
   "metadata": {},
   "source": [
    "# Statistics Solutions"
   ]
  },
  {
   "cell_type": "markdown",
   "id": "c8e9c055",
   "metadata": {},
   "source": [
    "## Exercise 1: Mean and Median"
   ]
  },
  {
   "cell_type": "markdown",
   "id": "8e325ddc",
   "metadata": {},
   "source": [
    "**Mean** is calculated by summing all the values and dividing by the number of values."
   ]
  },
  {
   "cell_type": "code",
   "execution_count": null,
   "id": "d2807a0b",
   "metadata": {},
   "outputs": [],
   "source": [
    "\n",
    "data = [12, 15, 13, 17, 14, 16, 15, 14]\n",
    "mean = sum(data) / len(data)\n",
    "print(\"Mean:\", mean)\n"
   ]
  },
  {
   "cell_type": "markdown",
   "id": "1f5c6a25",
   "metadata": {},
   "source": [
    "**Median** is the middle value when the data is sorted."
   ]
  },
  {
   "cell_type": "code",
   "execution_count": null,
   "id": "427d4ec4",
   "metadata": {},
   "outputs": [],
   "source": [
    "\n",
    "sorted_data = sorted(data)\n",
    "n = len(sorted_data)\n",
    "if n % 2 == 0:\n",
    "    median = (sorted_data[n//2 - 1] + sorted_data[n//2]) / 2\n",
    "else:\n",
    "    median = sorted_data[n//2]\n",
    "print(\"Median:\", median)\n"
   ]
  },
  {
   "cell_type": "markdown",
   "id": "a79072bd",
   "metadata": {},
   "source": [
    "## Exercise 2: Variance and Standard Deviation"
   ]
  },
  {
   "cell_type": "markdown",
   "id": "b7de6edf",
   "metadata": {},
   "source": [
    "**Variance** measures the spread of the data from the mean."
   ]
  },
  {
   "cell_type": "code",
   "execution_count": null,
   "id": "ff412cf9",
   "metadata": {},
   "outputs": [],
   "source": [
    "\n",
    "mean = sum(data) / len(data)\n",
    "variance = sum((x - mean) ** 2 for x in data) / len(data)\n",
    "print(\"Variance:\", variance)\n"
   ]
  },
  {
   "cell_type": "markdown",
   "id": "f06e4449",
   "metadata": {},
   "source": [
    "**Standard Deviation** is the square root of the variance."
   ]
  },
  {
   "cell_type": "code",
   "execution_count": null,
   "id": "d77c0a5a",
   "metadata": {},
   "outputs": [],
   "source": [
    "\n",
    "import math\n",
    "std_dev = math.sqrt(variance)\n",
    "print(\"Standard Deviation:\", std_dev)\n"
   ]
  },
  {
   "cell_type": "markdown",
   "id": "8ebabd51",
   "metadata": {},
   "source": [
    "## Exercise 3: Probability Distributions"
   ]
  },
  {
   "cell_type": "markdown",
   "id": "6ffd9b4d",
   "metadata": {},
   "source": [
    "\n",
    "A **normal distribution** is a continuous probability distribution that is symmetrical on both sides of the mean. Key properties include:\n",
    "\n",
    "- The mean, median, and mode are all equal.\n",
    "- It's defined by two parameters: the mean (μ) and the standard deviation (σ).\n",
    "- Approximately 68% of data falls within one standard deviation from the mean.\n",
    "\n",
    "The normal distribution is significant because many variables are naturally distributed this way, and it forms the basis for many statistical methods.\n"
   ]
  },
  {
   "cell_type": "markdown",
   "id": "759143a1",
   "metadata": {},
   "source": [
    "## Exercise 4: Hypothesis Testing"
   ]
  },
  {
   "cell_type": "markdown",
   "id": "d8295b82",
   "metadata": {},
   "source": [
    "\n",
    "Steps for conducting a **t-test**:\n",
    "\n",
    "1. **State the hypotheses**: Define the null hypothesis (H₀) and the alternative hypothesis (H₁).\n",
    "2. **Choose the significance level**: Commonly denoted as α, e.g., 0.05.\n",
    "3. **Calculate the test statistic**: Use the t-test formula based on sample data.\n",
    "4. **Determine the critical value**: From the t-distribution table based on degrees of freedom.\n",
    "5. **Make a decision**: Compare the test statistic with the critical value to accept or reject H₀.\n"
   ]
  },
  {
   "cell_type": "markdown",
   "id": "ab583623",
   "metadata": {},
   "source": [
    "## Exercise 5: Linear Regression"
   ]
  },
  {
   "cell_type": "markdown",
   "id": "71150227",
   "metadata": {},
   "source": [
    "\n",
    "Steps to perform **linear regression**:\n",
    "\n",
    "1. **Plot the data**: Visualize the relationship between `X` and `Y`.\n",
    "2. **Calculate the correlation coefficient**: Assess the strength and direction of the relationship.\n",
    "3. **Compute the regression line**: Find the line of best fit using the least squares method.\n",
    "4. **Interpret the coefficients**: Understand the slope and intercept.\n",
    "5. **Evaluate the model**: Use R-squared and residual analysis to assess fit.\n",
    "6. **Make predictions**: Use the regression equation for forecasting.\n"
   ]
  }
 ],
 "metadata": {},
 "nbformat": 4,
 "nbformat_minor": 5
}
