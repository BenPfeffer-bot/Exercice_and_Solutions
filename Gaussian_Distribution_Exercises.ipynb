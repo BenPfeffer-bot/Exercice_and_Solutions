{
 "cells": [
  {
   "cell_type": "markdown",
   "id": "e18e583f",
   "metadata": {},
   "source": [
    "# Gaussian Distribution Exercises\n",
    "\n",
    "This notebook contains a series of exercises to help you understand and work with Gaussian distributions using NumPy."
   ]
  },
  {
   "cell_type": "markdown",
   "id": "15171b8c",
   "metadata": {},
   "source": [
    "---\n",
    "\n",
    "## Exercise 1: Understanding Gaussian Distribution Parameters\n",
    "\n",
    "**Objective**: Understand the basic parameters of a Gaussian distribution.\n",
    "\n",
    "**Instructions**:\n",
    "- Define the mean (`μ`) and standard deviation (`σ`) of a Gaussian distribution.\n",
    "- Explain what each parameter represents in the context of the distribution."
   ]
  },
  {
   "cell_type": "markdown",
   "id": "696f9db5",
   "metadata": {},
   "source": [
    "---\n",
    "\n",
    "## Exercise 2: Generating Gaussian Distributed Data\n",
    "\n",
    "**Objective**: Generate random data following a Gaussian distribution using NumPy.\n",
    "\n",
    "**Instructions**:\n",
    "- Use `numpy.random.normal` to generate 1000 samples from a Gaussian distribution with a mean of 0 and a standard deviation of 1.\n",
    "- Store the generated data in a variable named `data`.\n",
    "\n",
    "```python\n",
    "import numpy as np\n",
    "\n",
    "# Your code here\n",
    "```"
   ]
  },
  {
   "cell_type": "code",
   "execution_count": null,
   "id": "7e3b9063",
   "metadata": {},
   "outputs": [],
   "source": [
    "import numpy as np\n",
    "\n",
    "data = np.random.normal(0,1,1000)\n",
    "data"
   ]
  },
  {
   "cell_type": "markdown",
   "id": "c8852e57",
   "metadata": {},
   "source": [
    "---\n",
    "\n",
    "## Exercise 3: Visualizing the Gaussian Distribution\n",
    "\n",
    "**Objective**: Visualize the generated Gaussian data using a histogram.\n",
    "\n",
    "**Instructions**:\n",
    "- Use `matplotlib` to plot a histogram of the `data` generated in Exercise 2.\n",
    "- Ensure the histogram has 30 bins and includes a title and axis labels.\n",
    "\n",
    "```python\n",
    "import matplotlib.pyplot as plt\n",
    "\n",
    "# Your code here\n",
    "```"
   ]
  },
  {
   "cell_type": "code",
   "execution_count": null,
   "id": "bec2e29d",
   "metadata": {},
   "outputs": [],
   "source": [
    "import matplotlib.pyplot as plt\n",
    "\n",
    "plt.figure(figsize=(8, 6))\n",
    "plt.hist(data, bins=30, edgecolor='k', alpha=0.7)\n",
    "plt.title('Histogram of Gaussian Distributed Data')\n",
    "plt.xlabel('Value')\n",
    "plt.ylabel('Frequency')\n",
    "plt.grid(True)\n",
    "plt.show()"
   ]
  },
  {
   "cell_type": "markdown",
   "id": "62e45d0b",
   "metadata": {},
   "source": [
    "---\n",
    "\n",
    "## Exercise 4: Calculating Statistics\n",
    "\n",
    "**Objective**: Calculate the mean and standard deviation of the generated data.\n",
    "\n",
    "**Instructions**:\n",
    "- Use NumPy functions to calculate the mean and standard deviation of `data`.\n",
    "- Print the calculated values.\n",
    "\n",
    "```python\n",
    "# Your code here\n",
    "```"
   ]
  },
  {
   "cell_type": "code",
   "execution_count": null,
   "id": "643ca5b1",
   "metadata": {},
   "outputs": [],
   "source": [
    "# Calculate mean\n",
    "empirical_mean = np.mean(data)\n",
    "\n",
    "# Calculate standard deviation\n",
    "empirical_std = np.std(data)\n",
    "\n",
    "print(f\"Empirical Mean: {empirical_mean}\")\n",
    "print(f\"Empirical Standard Deviation: {empirical_std}\")"
   ]
  },
  {
   "cell_type": "markdown",
   "id": "c8cec8fc",
   "metadata": {},
   "source": [
    "---\n",
    "\n",
    "## Exercise 5: Comparing Empirical and Theoretical Values\n",
    "\n",
    "**Objective**: Compare the empirical mean and standard deviation with the theoretical values.\n",
    "\n",
    "**Instructions**:\n",
    "- Theoretical mean (`μ`) is 0 and standard deviation (`σ`) is 1.\n",
    "- Compare these with the empirical values calculated in Exercise 4.\n",
    "- Comment on any discrepancies.\n",
    "\n",
    "```python\n",
    "# Your code here\n",
    "```"
   ]
  },
  {
   "cell_type": "code",
   "execution_count": null,
   "id": "c22ecc0f",
   "metadata": {},
   "outputs": [],
   "source": [
    "print(f\"Theoretical Mean: {mu}\")\n",
    "print(f\"Theoretical Standard Deviation: {sigma}\\n\")\n",
    "\n",
    "print(f\"Empirical Mean: {empirical_mean}\")\n",
    "print(f\"Empirical Standard Deviation: {empirical_std}\")"
   ]
  },
  {
   "cell_type": "markdown",
   "id": "fd58efea",
   "metadata": {},
   "source": [
    "---\n",
    "\n",
    "## Exercise 6: Generating Multi-Dimensional Gaussian Data\n",
    "\n",
    "**Objective**: Generate 2-dimensional Gaussian distributed data.\n",
    "\n",
    "**Instructions**:\n",
    "- Generate 500 samples of 2-dimensional data with means `[0, 0]` and covariance matrix `[[1, 0.5], [0.5, 1]]`.\n",
    "- Store the generated data in a variable named `multi_dim_data`.\n",
    "\n",
    "```python\n",
    "# Your code here\n",
    "```"
   ]
  },
  {
   "cell_type": "code",
   "execution_count": 19,
   "id": "22c1d32a",
   "metadata": {},
   "outputs": [
    {
     "name": "stdout",
     "output_type": "stream",
     "text": [
      "[[-1. -1.]\n",
      " [-2. -1.]\n",
      " [ 0. -2.]\n",
      " [ 1.  1.]\n",
      " [ 1.  1.]\n",
      " [ 0.  0.]\n",
      " [ 2.  1.]\n",
      " [ 2.  1.]\n",
      " [ 0.  0.]\n",
      " [-1. -1.]]\n"
     ]
    }
   ],
   "source": [
    "mean = [0,0]\n",
    "covariance_matrix = [ [1 , 0.5] ,[0.5 , 1] ]\n",
    "n =500\n",
    "\n",
    "multi_dim_data = np.floor(np.random.multivariate_normal(mean, covariance_matrix, size=n))\n",
    "print(multi_dim_data[:10])"
   ]
  },
  {
   "cell_type": "markdown",
   "id": "7a8de6d1",
   "metadata": {},
   "source": [
    "---\n",
    "\n",
    "## Exercise 7: Visualizing Multi-Dimensional Data\n",
    "\n",
    "**Objective**: Visualize the 2-dimensional Gaussian data using a scatter plot.\n",
    "\n",
    "**Instructions**:\n",
    "- Use `matplotlib` to create a scatter plot of `multi_dim_data`.\n",
    "- Label the axes appropriately and include a title.\n",
    "\n",
    "```python\n",
    "# Your code here\n",
    "```"
   ]
  },
  {
   "cell_type": "code",
   "execution_count": 22,
   "id": "ad8256bb",
   "metadata": {},
   "outputs": [
    {
     "data": {
      "image/png": "[encoded data removed]",
      "text/plain": [
       "<Figure size 800x600 with 1 Axes>"
      ]
     },
     "metadata": {},
     "output_type": "display_data"
    }
   ],
   "source": [
    "plt.figure(figsize=(8, 6))\n",
    "plt.scatter(multi_dim_data[:, 0], multi_dim_data[:, 1], alpha=0.6, edgecolors='w', linewidth=0.5)\n",
    "plt.title('Scatter Plot of 2D Gaussian Distributed Data')\n",
    "plt.xlabel('Dimension 1')\n",
    "plt.ylabel('Dimension 2')\n",
    "plt.grid(True)\n",
    "plt.show()\n"
   ]
  },
  {
   "cell_type": "markdown",
   "id": "001f5415",
   "metadata": {},
   "source": [
    "---\n",
    "\n",
    "## Exercise 8: Understanding Covariance\n",
    "\n",
    "**Objective**: Calculate and interpret the covariance of the multi-dimensional data.\n",
    "\n",
    "**Instructions**:\n",
    "- Use NumPy to calculate the covariance matrix of `multi_dim_data`.\n",
    "- Compare it with the covariance matrix used during data generation.\n",
    "- Discuss the significance of covariance in multi-dimensional Gaussian distributions.\n",
    "\n",
    "```python\n",
    "# Your code here\n",
    "```"
   ]
  },
  {
   "cell_type": "code",
   "execution_count": 26,
   "id": "5705db36",
   "metadata": {},
   "outputs": [
    {
     "name": "stdout",
     "output_type": "stream",
     "text": [
      "Theoretical Covariance Matrix:\n",
      "[[1, 0.5], [0.5, 1]]\n",
      "\n",
      "Empirical Covariance Matrix:\n",
      "[[1.14013627 0.59118236]\n",
      " [0.59118236 1.16432866]]\n"
     ]
    }
   ],
   "source": [
    "# Calculate empirical covariance matrix\n",
    "empirical_cov = np.cov(multi_dim_data, rowvar=False)\n",
    "\n",
    "print(\"Theoretical Covariance Matrix:\")\n",
    "print(covariance_matrix)\n",
    "print(\"\\nEmpirical Covariance Matrix:\")\n",
    "print(empirical_cov)"
   ]
  },
  {
   "cell_type": "markdown",
   "id": "5e576828",
   "metadata": {},
   "source": [
    "---\n",
    "\n",
    "## Exercise 9: Reproducibility with Random Seeds\n",
    "\n",
    "**Objective**: Understand the importance of setting random seeds for reproducibility.\n",
    "\n",
    "**Instructions**:\n",
    "- Set a random seed using `numpy.random.seed(42)`.\n",
    "- Generate a new set of 1000 Gaussian samples with mean 5 and standard deviation 2.\n",
    "- Generate the same set again and verify that both sets are identical.\n",
    "\n",
    "```python\n",
    "# Your code here\n",
    "```"
   ]
  },
  {
   "cell_type": "code",
   "execution_count": 27,
   "id": "30166a33",
   "metadata": {},
   "outputs": [],
   "source": [
    "import numpy as np\n",
    "\n",
    "# Set random seed\n",
    "np.random.seed(42)\n",
    "\n",
    "# Parameters\n",
    "mu_new = 5\n",
    "sigma_new = 2\n",
    "n_samples_new = 1000\n",
    "\n",
    "# Generate data\n",
    "data1 = np.random.normal(loc=mu_new, scale=sigma_new, size=n_samples_new)\n",
    "\n",
    "# Reset the seed to generate the same data again\n",
    "np.random.seed(42)\n",
    "data2 = np.random.normal(loc=mu_new, scale=sigma_new, size=n_samples_new)\n"
   ]
  },
  {
   "cell_type": "markdown",
   "id": "1f66f8e0",
   "metadata": {},
   "source": [
    "---\n",
    "\n",
    "## Exercise 10: Application - Simulating Measurement Errors\n",
    "\n",
    "**Objective**: Apply Gaussian distribution to simulate measurement errors.\n",
    "\n",
    "**Instructions**:\n",
    "- Assume a measurement system has a true value of 50 units.\n",
    "- Simulate 100 measurements by adding Gaussian noise with mean 0 and standard deviation 1.5.\n",
    "- Calculate and plot the distribution of the measured values.\n",
    "- Discuss how the Gaussian noise affects the measurements.\n",
    "\n",
    "```python\n",
    "# Your code here\n",
    "```"
   ]
  }
 ],
 "metadata": {
  "kernelspec": {
   "display_name": "base",
   "language": "python",
   "name": "python3"
  },
  "language_info": {
   "codemirror_mode": {
    "name": "ipython",
    "version": 3
   },
   "file_extension": ".py",
   "mimetype": "text/x-python",
   "name": "python",
   "nbconvert_exporter": "python",
   "pygments_lexer": "ipython3",
   "version": "3.11.7"
  }
 },
 "nbformat": 4,
 "nbformat_minor": 5
}
