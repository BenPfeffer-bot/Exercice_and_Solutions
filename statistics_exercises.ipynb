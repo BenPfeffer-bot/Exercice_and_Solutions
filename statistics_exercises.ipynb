{
 "cells": [
  {
   "cell_type": "markdown",
   "id": "09598398",
   "metadata": {},
   "source": [
    "# Statistics Exercises"
   ]
  },
  {
   "cell_type": "markdown",
   "id": "5f721433",
   "metadata": {},
   "source": [
    "## Exercise 1: Mean and Median"
   ]
  },
  {
   "cell_type": "markdown",
   "id": "603fa1e1",
   "metadata": {},
   "source": [
    "\n",
    "Given the following data set:\n",
    "\n",
    "`data = [12, 15, 13, 17, 14, 16, 15, 14]`\n",
    "\n",
    "Calculate the **mean** and **median** of the data set.\n"
   ]
  },
  {
   "cell_type": "code",
   "execution_count": null,
   "id": "5c84e170",
   "metadata": {},
   "outputs": [],
   "source": [
    "# Your code here\n"
   ]
  },
  {
   "cell_type": "markdown",
   "id": "ef224392",
   "metadata": {},
   "source": [
    "## Exercise 2: Variance and Standard Deviation"
   ]
  },
  {
   "cell_type": "markdown",
   "id": "b74e576e",
   "metadata": {},
   "source": [
    "\n",
    "Using the same data set:\n",
    "\n",
    "`data = [12, 15, 13, 17, 14, 16, 15, 14]`\n",
    "\n",
    "Calculate the **variance** and **standard deviation**.\n"
   ]
  },
  {
   "cell_type": "code",
   "execution_count": null,
   "id": "13433f07",
   "metadata": {},
   "outputs": [],
   "source": [
    "# Your code here\n"
   ]
  },
  {
   "cell_type": "markdown",
   "id": "7fcd99c9",
   "metadata": {},
   "source": [
    "## Exercise 3: Probability Distributions"
   ]
  },
  {
   "cell_type": "markdown",
   "id": "954cb86a",
   "metadata": {},
   "source": [
    "\n",
    "Describe the properties of a **normal distribution** and explain its significance in statistics.\n"
   ]
  },
  {
   "cell_type": "markdown",
   "id": "e64da5b7",
   "metadata": {},
   "source": [
    "*(Write your answer below.)*"
   ]
  },
  {
   "cell_type": "markdown",
   "id": "9e533a22",
   "metadata": {},
   "source": [
    "## Exercise 4: Hypothesis Testing"
   ]
  },
  {
   "cell_type": "markdown",
   "id": "7412f08f",
   "metadata": {},
   "source": [
    "\n",
    "Explain the steps involved in conducting a **t-test** for comparing the means of two samples.\n"
   ]
  },
  {
   "cell_type": "markdown",
   "id": "ced4f023",
   "metadata": {},
   "source": [
    "*(Write your answer below.)*"
   ]
  },
  {
   "cell_type": "markdown",
   "id": "c0dcdfd8",
   "metadata": {},
   "source": [
    "## Exercise 5: Linear Regression"
   ]
  },
  {
   "cell_type": "markdown",
   "id": "b49d7ae5",
   "metadata": {},
   "source": [
    "\n",
    "Given a dataset with variables `X` and `Y`, outline the process of performing a **linear regression** analysis.\n"
   ]
  },
  {
   "cell_type": "markdown",
   "id": "9f27738f",
   "metadata": {},
   "source": [
    "*(Write your answer below.)*"
   ]
  }
 ],
 "metadata": {},
 "nbformat": 4,
 "nbformat_minor": 5
}
