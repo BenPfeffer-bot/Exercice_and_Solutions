{
 "cells": [
  {
   "cell_type": "markdown",
   "id": "8a32fa5b",
   "metadata": {},
   "source": [
    "# Introduction to Machine Learning"
   ]
  },
  {
   "cell_type": "markdown",
   "id": "cf82dcd7",
   "metadata": {},
   "source": [
    "\n",
    "Welcome to this introductory notebook on Machine Learning! In this notebook, we will explore fundamental concepts of machine learning and visualize them using the **Manim** library.\n",
    "\n",
    "**Topics Covered:**\n",
    "\n",
    "1. What is Machine Learning?\n",
    "2. Types of Machine Learning\n",
    "3. Linear Regression\n",
    "4. Decision Trees\n",
    "5. Clustering\n",
    "6. Conclusion\n",
    "\n",
    "**Note:** To visualize the concepts using Manim, ensure that you have **Manim** installed and properly configured to run within a Jupyter notebook. Instructions will be provided where necessary.\n"
   ]
  },
  {
   "cell_type": "markdown",
   "id": "4be3008c",
   "metadata": {},
   "source": [
    "## 1. What is Machine Learning?"
   ]
  },
  {
   "cell_type": "markdown",
   "id": "92bfa68e",
   "metadata": {},
   "source": [
    "\n",
    "Machine Learning is a field of artificial intelligence that uses statistical techniques to give computer systems the ability to \"learn\" from data, without being explicitly programmed.\n",
    "\n",
    "**Key Concepts:**\n",
    "\n",
    "- **Data**: The raw information from which the machine learns.\n",
    "- **Model**: The mathematical representation of the learning process.\n",
    "- **Training**: The process of feeding data into the model to learn patterns.\n",
    "- **Prediction**: Using the trained model to make decisions or predictions on new data.\n",
    "\n",
    "Let's visualize the basic idea of machine learning using Manim.\n"
   ]
  },
  {
   "cell_type": "code",
   "execution_count": null,
   "id": "e2d7bff6",
   "metadata": {},
   "outputs": [],
   "source": [
    "\n",
    "# Import Manim and necessary libraries\n",
    "from manim import *\n",
    "\n",
    "# Define a simple Manim scene\n",
    "class MLIntroduction(Scene):\n",
    "    def construct(self):\n",
    "        title = Text(\"Machine Learning\", font_size=72)\n",
    "        self.play(Write(title))\n",
    "        self.wait(2)\n",
    "        self.play(FadeOut(title))\n"
   ]
  },
  {
   "cell_type": "markdown",
   "id": "b7ac7fcf",
   "metadata": {},
   "source": [
    "\n",
    "**Note:** To render the Manim scene within the notebook, run the following command:\n"
   ]
  },
  {
   "cell_type": "code",
   "execution_count": null,
   "id": "4a678ad1",
   "metadata": {},
   "outputs": [],
   "source": [
    "\n",
    "from manim.utils.ipython_magic import manim_render\n",
    "\n",
    "manim_render(MLIntroduction)\n"
   ]
  },
  {
   "cell_type": "markdown",
   "id": "a9c7e2cb",
   "metadata": {},
   "source": [
    "## 2. Types of Machine Learning"
   ]
  },
  {
   "cell_type": "markdown",
   "id": "2f3d8974",
   "metadata": {},
   "source": [
    "\n",
    "Machine Learning algorithms are typically classified into three categories:\n",
    "\n",
    "1. **Supervised Learning**: The model learns from labeled data.\n",
    "2. **Unsupervised Learning**: The model identifies patterns in unlabeled data.\n",
    "3. **Reinforcement Learning**: The model learns by interacting with an environment to achieve a goal.\n",
    "\n",
    "### Visualizing Types of Machine Learning\n"
   ]
  },
  {
   "cell_type": "code",
   "execution_count": null,
   "id": "d9e5feae",
   "metadata": {},
   "outputs": [],
   "source": [
    "\n",
    "class MLTypes(Scene):\n",
    "    def construct(self):\n",
    "        supervised = Text(\"Supervised Learning\", color=BLUE)\n",
    "        unsupervised = Text(\"Unsupervised Learning\", color=GREEN)\n",
    "        reinforcement = Text(\"Reinforcement Learning\", color=RED)\n",
    "        \n",
    "        group = VGroup(supervised, unsupervised, reinforcement).arrange(DOWN, buff=1)\n",
    "        self.play(Write(group))\n",
    "        self.wait(2)\n"
   ]
  },
  {
   "cell_type": "code",
   "execution_count": null,
   "id": "5f049a2b",
   "metadata": {},
   "outputs": [],
   "source": [
    "\n",
    "manim_render(MLTypes)\n"
   ]
  },
  {
   "cell_type": "markdown",
   "id": "78fbd267",
   "metadata": {},
   "source": [
    "## 3. Linear Regression"
   ]
  },
  {
   "cell_type": "markdown",
   "id": "4860e705",
   "metadata": {},
   "source": [
    "\n",
    "Linear Regression is a supervised learning algorithm used for predicting a quantitative response.\n",
    "\n",
    "**Equation:**\n",
    "\n",
    "\\[\n",
    "y = \\beta_0 + \\beta_1 x + \\epsilon\n",
    "\\]\n",
    "\n",
    "Where:\n",
    "\n",
    "- \\( y \\) is the dependent variable.\n",
    "- \\( x \\) is the independent variable.\n",
    "- \\( \\beta_0 \\) is the intercept.\n",
    "- \\( \\beta_1 \\) is the slope.\n",
    "- \\( \\epsilon \\) is the error term.\n",
    "\n",
    "### Visualizing Linear Regression\n"
   ]
  },
  {
   "cell_type": "code",
   "execution_count": null,
   "id": "b0918d55",
   "metadata": {},
   "outputs": [],
   "source": [
    "\n",
    "import numpy as np\n",
    "import matplotlib.pyplot as plt\n",
    "\n",
    "# Generate sample data\n",
    "np.random.seed(42)\n",
    "X = 2 * np.random.rand(100, 1)\n",
    "y = 4 + 3 * X + np.random.randn(100, 1)\n",
    "\n",
    "# Plot the data\n",
    "plt.scatter(X, y)\n",
    "plt.xlabel(\"X\")\n",
    "plt.ylabel(\"y\")\n",
    "plt.title(\"Sample Data for Linear Regression\")\n",
    "plt.show()\n"
   ]
  },
  {
   "cell_type": "markdown",
   "id": "7ad8c7fc",
   "metadata": {},
   "source": [
    "\n",
    "Let's visualize the regression line using Manim.\n"
   ]
  },
  {
   "cell_type": "code",
   "execution_count": null,
   "id": "a953b3cc",
   "metadata": {},
   "outputs": [],
   "source": [
    "\n",
    "class LinearRegressionScene(Scene):\n",
    "    def construct(self):\n",
    "        axes = Axes(\n",
    "            x_range=[0, 2, 0.5],\n",
    "            y_range=[0, 15, 5],\n",
    "            x_length=6,\n",
    "            y_length=6,\n",
    "            axis_config={\"color\": GREEN}\n",
    "        ).to_edge(LEFT)\n",
    "        \n",
    "        # Sample data points\n",
    "        dots = VGroup()\n",
    "        for xi, yi in zip(X, y):\n",
    "            dot = Dot(axes.coords_to_point(xi[0], yi[0]), color=BLUE)\n",
    "            dots.add(dot)\n",
    "        \n",
    "        # Regression line\n",
    "        line = axes.get_graph(lambda x: 4 + 3 * x, color=RED)\n",
    "        \n",
    "        self.play(Create(axes))\n",
    "        self.play(Create(dots))\n",
    "        self.play(Create(line))\n",
    "        self.wait(2)\n"
   ]
  },
  {
   "cell_type": "code",
   "execution_count": null,
   "id": "d63fd63a",
   "metadata": {},
   "outputs": [],
   "source": [
    "\n",
    "manim_render(LinearRegressionScene)\n"
   ]
  },
  {
   "cell_type": "markdown",
   "id": "b9c04590",
   "metadata": {},
   "source": [
    "## 4. Decision Trees"
   ]
  },
  {
   "cell_type": "markdown",
   "id": "f5ee08bb",
   "metadata": {},
   "source": [
    "\n",
    "Decision Trees are a type of supervised learning algorithm used for classification and regression tasks.\n",
    "\n",
    "**Key Concepts:**\n",
    "\n",
    "- **Root Node**: Represents the entire dataset.\n",
    "- **Decision Nodes**: Sub-nodes that split the data based on features.\n",
    "- **Leaf Nodes**: Terminal nodes that make the final prediction.\n",
    "\n",
    "### Visualizing a Decision Tree\n"
   ]
  },
  {
   "cell_type": "code",
   "execution_count": null,
   "id": "94ced4bb",
   "metadata": {},
   "outputs": [],
   "source": [
    "\n",
    "class DecisionTreeScene(Scene):\n",
    "    def construct(self):\n",
    "        root = Circle(radius=0.5, color=BLUE).shift(UP*2)\n",
    "        left_child = Circle(radius=0.5, color=GREEN).shift(LEFT*2)\n",
    "        right_child = Circle(radius=0.5, color=GREEN).shift(RIGHT*2)\n",
    "        left_leaf = Circle(radius=0.5, color=YELLOW).shift(LEFT*2 + DOWN*2)\n",
    "        right_leaf = Circle(radius=0.5, color=YELLOW).shift(RIGHT*2 + DOWN*2)\n",
    "        \n",
    "        edges = VGroup(\n",
    "            Line(root.get_bottom(), left_child.get_top()),\n",
    "            Line(root.get_bottom(), right_child.get_top()),\n",
    "            Line(left_child.get_bottom(), left_leaf.get_top()),\n",
    "            Line(right_child.get_bottom(), right_leaf.get_top())\n",
    "        )\n",
    "        \n",
    "        nodes = VGroup(root, left_child, right_child, left_leaf, right_leaf)\n",
    "        \n",
    "        self.play(Create(edges), Create(nodes))\n",
    "        self.wait(2)\n"
   ]
  },
  {
   "cell_type": "code",
   "execution_count": null,
   "id": "458c07e9",
   "metadata": {},
   "outputs": [],
   "source": [
    "\n",
    "manim_render(DecisionTreeScene)\n"
   ]
  },
  {
   "cell_type": "markdown",
   "id": "a961ba10",
   "metadata": {},
   "source": [
    "## 5. Clustering"
   ]
  },
  {
   "cell_type": "markdown",
   "id": "23b2e58c",
   "metadata": {},
   "source": [
    "\n",
    "Clustering is an unsupervised learning technique that groups data points such that those in the same group are more similar to each other than to those in other groups.\n",
    "\n",
    "**Popular Algorithms:**\n",
    "\n",
    "- K-Means Clustering\n",
    "- Hierarchical Clustering\n",
    "- DBSCAN\n",
    "\n",
    "### Visualizing K-Means Clustering\n"
   ]
  },
  {
   "cell_type": "code",
   "execution_count": null,
   "id": "5c78bbf6",
   "metadata": {},
   "outputs": [],
   "source": [
    "\n",
    "from sklearn.datasets import make_blobs\n",
    "from sklearn.cluster import KMeans\n",
    "\n",
    "# Generate sample data\n",
    "X_blob, _ = make_blobs(n_samples=300, centers=4, cluster_std=0.60, random_state=0)\n",
    "\n",
    "# Fit K-Means\n",
    "kmeans = KMeans(n_clusters=4)\n",
    "kmeans.fit(X_blob)\n",
    "y_kmeans = kmeans.predict(X_blob)\n",
    "\n",
    "# Plot the clusters\n",
    "plt.scatter(X_blob[:, 0], X_blob[:, 1], c=y_kmeans, s=50, cmap='viridis')\n",
    "centers = kmeans.cluster_centers_\n",
    "plt.scatter(centers[:, 0], centers[:, 1], c='red', s=200, alpha=0.75)\n",
    "plt.title(\"K-Means Clustering\")\n",
    "plt.show()\n"
   ]
  },
  {
   "cell_type": "markdown",
   "id": "0ed3050c",
   "metadata": {},
   "source": [
    "\n",
    "We can use Manim to animate the clustering process.\n"
   ]
  },
  {
   "cell_type": "code",
   "execution_count": null,
   "id": "ab81e539",
   "metadata": {},
   "outputs": [],
   "source": [
    "\n",
    "class KMeansClusteringScene(Scene):\n",
    "    def construct(self):\n",
    "        # Since animating K-Means is complex, we'll illustrate the concept\n",
    "        title = Text(\"K-Means Clustering\", font_size=48)\n",
    "        self.play(Write(title))\n",
    "        self.wait(2)\n",
    "        self.play(FadeOut(title))\n"
   ]
  },
  {
   "cell_type": "code",
   "execution_count": null,
   "id": "6b841c78",
   "metadata": {},
   "outputs": [],
   "source": [
    "\n",
    "manim_render(KMeansClusteringScene)\n"
   ]
  },
  {
   "cell_type": "markdown",
   "id": "8ca8e07b",
   "metadata": {},
   "source": [
    "## 6. Conclusion"
   ]
  },
  {
   "cell_type": "markdown",
   "id": "42c8ab83",
   "metadata": {},
   "source": [
    "\n",
    "In this notebook, we've introduced the basics of machine learning and visualized key concepts using Manim.\n",
    "\n",
    "**Key Takeaways:**\n",
    "\n",
    "- Machine Learning enables computers to learn from data.\n",
    "- There are different types of machine learning algorithms for various tasks.\n",
    "- Visualization helps in understanding complex concepts.\n",
    "\n",
    "**Next Steps:**\n",
    "\n",
    "- Explore more complex models like Neural Networks.\n",
    "- Dive deeper into each algorithm and understand the math behind them.\n",
    "- Apply machine learning techniques to real-world datasets.\n"
   ]
  }
 ],
 "metadata": {},
 "nbformat": 4,
 "nbformat_minor": 5
}
