{
 "cells": [
  {
   "cell_type": "markdown",
   "id": "dc697be7",
   "metadata": {},
   "source": [
    "# Statistics Project"
   ]
  },
  {
   "cell_type": "markdown",
   "id": "1b82d950",
   "metadata": {},
   "source": [
    "\n",
    "In this project, we will apply various statistical concepts and techniques to analyze a real-world dataset. The project will cover:\n",
    "\n",
    "1. **Data Exploration**\n",
    "2. **Descriptive Statistics**\n",
    "3. **Data Visualization**\n",
    "4. **Hypothesis Testing**\n",
    "5. **Regression Analysis**\n",
    "6. **Conclusion**\n",
    "\n",
    "Let's dive into the world of data and uncover interesting insights using statistical methods!\n"
   ]
  },
  {
   "cell_type": "markdown",
   "id": "950707e8",
   "metadata": {},
   "source": [
    "## 1. Data Exploration"
   ]
  },
  {
   "cell_type": "markdown",
   "id": "29bfc1fc",
   "metadata": {},
   "source": [
    "\n",
    "We will use the **Iris** dataset for this project. The dataset contains measurements of iris flowers from three different species.\n",
    "\n",
    "**Attributes:**\n",
    "\n",
    "- `sepal_length`\n",
    "- `sepal_width`\n",
    "- `petal_length`\n",
    "- `petal_width`\n",
    "- `species`\n",
    "\n",
    "**Tasks:**\n",
    "\n",
    "- Load the dataset.\n",
    "- Display the first few rows.\n",
    "- Check for missing values.\n"
   ]
  },
  {
   "cell_type": "code",
   "execution_count": null,
   "id": "ecea6374",
   "metadata": {},
   "outputs": [],
   "source": [
    "\n",
    "# Import necessary libraries\n",
    "import pandas as pd\n",
    "\n",
    "# Load the Iris dataset\n",
    "df = pd.read_csv('https://raw.githubusercontent.com/mwaskom/seaborn-data/master/iris.csv')\n",
    "\n",
    "# Display the first five rows\n",
    "df.head()\n"
   ]
  },
  {
   "cell_type": "code",
   "execution_count": null,
   "id": "a5c2fa62",
   "metadata": {},
   "outputs": [],
   "source": [
    "\n",
    "# Check for missing values\n",
    "df.isnull().sum()\n"
   ]
  },
  {
   "cell_type": "markdown",
   "id": "c2c3e749",
   "metadata": {},
   "source": [
    "## 2. Descriptive Statistics"
   ]
  },
  {
   "cell_type": "markdown",
   "id": "20bdc582",
   "metadata": {},
   "source": [
    "\n",
    "Calculate the following descriptive statistics for each numerical attribute:\n",
    "\n",
    "- Mean\n",
    "- Median\n",
    "- Variance\n",
    "- Standard Deviation\n",
    "\n",
    "**Tasks:**\n",
    "\n",
    "- Use built-in pandas functions to compute the statistics.\n",
    "- Interpret the results.\n"
   ]
  },
  {
   "cell_type": "code",
   "execution_count": null,
   "id": "96e55cfa",
   "metadata": {},
   "outputs": [],
   "source": [
    "\n",
    "# Calculate descriptive statistics\n",
    "descriptive_stats = df.describe()\n",
    "descriptive_stats\n"
   ]
  },
  {
   "cell_type": "markdown",
   "id": "64ac3996",
   "metadata": {},
   "source": [
    "## 3. Data Visualization"
   ]
  },
  {
   "cell_type": "markdown",
   "id": "f85f431a",
   "metadata": {},
   "source": [
    "\n",
    "Visualize the data to identify patterns and relationships.\n",
    "\n",
    "**Tasks:**\n",
    "\n",
    "- Create histograms for each numerical attribute.\n",
    "- Generate scatter plots to observe relationships between attributes.\n"
   ]
  },
  {
   "cell_type": "code",
   "execution_count": null,
   "id": "24a90510",
   "metadata": {},
   "outputs": [],
   "source": [
    "\n",
    "import matplotlib.pyplot as plt\n",
    "import seaborn as sns\n",
    "\n",
    "# Histograms\n",
    "df.hist(figsize=(10, 8))\n",
    "plt.show()\n"
   ]
  },
  {
   "cell_type": "code",
   "execution_count": null,
   "id": "2a0e3bd3",
   "metadata": {},
   "outputs": [],
   "source": [
    "\n",
    "# Pairplot using seaborn\n",
    "sns.pairplot(df, hue='species')\n",
    "plt.show()\n"
   ]
  },
  {
   "cell_type": "markdown",
   "id": "3d13b5b4",
   "metadata": {},
   "source": [
    "## 4. Hypothesis Testing"
   ]
  },
  {
   "cell_type": "markdown",
   "id": "7fffcc8d",
   "metadata": {},
   "source": [
    "\n",
    "Test whether there is a significant difference in the mean petal length between two species: *setosa* and *versicolor*.\n",
    "\n",
    "**Tasks:**\n",
    "\n",
    "- State the null and alternative hypotheses.\n",
    "- Perform an independent two-sample t-test.\n",
    "- Interpret the results.\n"
   ]
  },
  {
   "cell_type": "code",
   "execution_count": null,
   "id": "3c754f6e",
   "metadata": {},
   "outputs": [],
   "source": [
    "\n",
    "from scipy import stats\n",
    "\n",
    "# Separate the data\n",
    "setosa_petal_length = df[df['species'] == 'setosa']['petal_length']\n",
    "versicolor_petal_length = df[df['species'] == 'versicolor']['petal_length']\n",
    "\n",
    "# Perform t-test\n",
    "t_statistic, p_value = stats.ttest_ind(setosa_petal_length, versicolor_petal_length)\n",
    "\n",
    "print(f\"T-statistic: {t_statistic:.2f}\")\n",
    "print(f\"P-value: {p_value:.4f}\")\n"
   ]
  },
  {
   "cell_type": "markdown",
   "id": "21797509",
   "metadata": {},
   "source": [
    "\n",
    "**Interpretation:**\n",
    "\n",
    "- If the p-value is less than 0.05, we reject the null hypothesis.\n"
   ]
  },
  {
   "cell_type": "markdown",
   "id": "b9644a4a",
   "metadata": {},
   "source": [
    "## 5. Regression Analysis"
   ]
  },
  {
   "cell_type": "markdown",
   "id": "7d806737",
   "metadata": {},
   "source": [
    "\n",
    "Perform a linear regression to predict **petal length** based on **petal width**.\n",
    "\n",
    "**Tasks:**\n",
    "\n",
    "- Split the data into training and testing sets.\n",
    "- Fit a linear regression model.\n",
    "- Evaluate the model's performance.\n"
   ]
  },
  {
   "cell_type": "code",
   "execution_count": null,
   "id": "40e0b504",
   "metadata": {},
   "outputs": [],
   "source": [
    "\n",
    "from sklearn.model_selection import train_test_split\n",
    "from sklearn.linear_model import LinearRegression\n",
    "from sklearn.metrics import r2_score\n",
    "\n",
    "# Prepare the data\n",
    "X = df[['petal_width']]\n",
    "y = df['petal_length']\n",
    "\n",
    "# Split the data\n",
    "X_train, X_test, y_train, y_test = train_test_split(X, y, test_size=0.2, random_state=42)\n",
    "\n",
    "# Fit the model\n",
    "model = LinearRegression()\n",
    "model.fit(X_train, y_train)\n",
    "\n",
    "# Make predictions\n",
    "y_pred = model.predict(X_test)\n"
   ]
  },
  {
   "cell_type": "code",
   "execution_count": null,
   "id": "e5c67e79",
   "metadata": {},
   "outputs": [],
   "source": [
    "\n",
    "# Evaluate the model\n",
    "r2 = r2_score(y_test, y_pred)\n",
    "print(f\"R-squared: {r2:.2f}\")\n"
   ]
  },
  {
   "cell_type": "markdown",
   "id": "32c60942",
   "metadata": {},
   "source": [
    "\n",
    "**Interpretation:**\n",
    "\n",
    "- An R-squared value closer to 1 indicates a better fit.\n"
   ]
  },
  {
   "cell_type": "markdown",
   "id": "e012cadb",
   "metadata": {},
   "source": [
    "## 6. Conclusion"
   ]
  },
  {
   "cell_type": "markdown",
   "id": "3fef155e",
   "metadata": {},
   "source": [
    "\n",
    "Summarize the findings from each section and reflect on the statistical techniques applied.\n",
    "\n",
    "**Points to Address:**\n",
    "\n",
    "- Key insights from descriptive statistics and visualizations.\n",
    "- Results of the hypothesis test and what they imply.\n",
    "- Performance of the regression model and its applicability.\n"
   ]
  },
  {
   "cell_type": "markdown",
   "id": "5fbd91e8",
   "metadata": {},
   "source": [
    "*(Write your conclusion here.)*"
   ]
  }
 ],
 "metadata": {},
 "nbformat": 4,
 "nbformat_minor": 5
}
